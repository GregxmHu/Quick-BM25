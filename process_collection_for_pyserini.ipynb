{
 "cells": [
  {
   "cell_type": "code",
   "execution_count": 2,
   "metadata": {},
   "outputs": [
    {
     "data": {
      "text/plain": [
       "0"
      ]
     },
     "execution_count": 2,
     "metadata": {},
     "output_type": "execute_result"
    }
   ],
   "source": [
    "import os\n",
    "dataset_name='nq'\n",
    "path=\"/home/huxiaomeng/beir/examples/generation/datasets/{}/corpus.jsonl\".format(dataset_name)\n",
    "os.system(\"mkdir inputs/{}/\".format(dataset_name))"
   ]
  },
  {
   "cell_type": "code",
   "execution_count": 3,
   "metadata": {},
   "outputs": [],
   "source": [
    "import json\n",
    "dataset=[]\n",
    "with open(path,'r') as f:\n",
    "    for item in f:\n",
    "        citem=json.loads(item)\n",
    "        citem={'id':citem['_id'],'contents':citem['title']+' '+citem['text']}\n",
    "        dataset.append(citem)"
   ]
  },
  {
   "cell_type": "code",
   "execution_count": 4,
   "metadata": {},
   "outputs": [],
   "source": [
    "with open(\"inputs/{}/corpus.jsonl\".format(dataset_name),'w') as f:\n",
    "    for item in dataset:\n",
    "        f.write(\n",
    "            json.dumps(item)\n",
    "        )\n",
    "        f.write(\"\\n\")"
   ]
  },
  {
   "cell_type": "code",
   "execution_count": 10,
   "metadata": {},
   "outputs": [
    {
     "name": "stdout",
     "output_type": "stream",
     "text": [
      "<class 'str'> <class 'int'>\n",
      "<class 'str'> <class 'int'>\n"
     ]
    }
   ],
   "source": [
    "a={'c':1,'d':2}\n",
    "for key,value in a.items():\n",
    "    print(type(key),type(value))"
   ]
  }
 ],
 "metadata": {
  "interpreter": {
   "hash": "03ae275a2001a585003f092f23e1124dfb473821afe59c38485a3c5908e9550c"
  },
  "kernelspec": {
   "display_name": "Python 3.7.0 ('sgpt')",
   "language": "python",
   "name": "python3"
  },
  "language_info": {
   "codemirror_mode": {
    "name": "ipython",
    "version": 3
   },
   "file_extension": ".py",
   "mimetype": "text/x-python",
   "name": "python",
   "nbconvert_exporter": "python",
   "pygments_lexer": "ipython3",
   "version": "3.7.0"
  },
  "orig_nbformat": 4
 },
 "nbformat": 4,
 "nbformat_minor": 2
}
